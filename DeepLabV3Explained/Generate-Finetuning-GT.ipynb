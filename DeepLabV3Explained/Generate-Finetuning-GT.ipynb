{
 "cells": [
  {
   "cell_type": "code",
   "execution_count": 6,
   "metadata": {},
   "outputs": [],
   "source": [
    "import cv2\n",
    "import numpy as np\n",
    "mask1 = cv2.imread(\"./CrackForest/Masks/002_label.PNG\")"
   ]
  },
  {
   "cell_type": "code",
   "execution_count": 11,
   "metadata": {},
   "outputs": [
    {
     "data": {
      "text/plain": [
       "255"
      ]
     },
     "execution_count": 11,
     "metadata": {},
     "output_type": "execute_result"
    }
   ],
   "source": [
    "mask1\n",
    "np.amax(mask1)"
   ]
  },
  {
   "cell_type": "code",
   "execution_count": 17,
   "metadata": {},
   "outputs": [],
   "source": [
    "mask = cv2.imread(\"./carotida-binary/Masks/100TN_2Lab.png\")"
   ]
  },
  {
   "cell_type": "code",
   "execution_count": 20,
   "metadata": {},
   "outputs": [
    {
     "data": {
      "text/plain": [
       "255"
      ]
     },
     "execution_count": 20,
     "metadata": {},
     "output_type": "execute_result"
    }
   ],
   "source": [
    "np.amax(mask)"
   ]
  },
  {
   "cell_type": "code",
   "execution_count": 19,
   "metadata": {},
   "outputs": [],
   "source": [
    "mask[mask == 1] = 255"
   ]
  },
  {
   "cell_type": "code",
   "execution_count": 3,
   "metadata": {},
   "outputs": [],
   "source": [
    "from os import listdir\n",
    "from os.path import isfile, join\n",
    "\n",
    "path = \"./carotida-binary/Test/Masks\"\n",
    "images = [f for f in listdir(path) if isfile(join(path, f))]"
   ]
  },
  {
   "cell_type": "code",
   "execution_count": 4,
   "metadata": {},
   "outputs": [
    {
     "data": {
      "text/plain": [
       "['20TEST20_2Lab.png',\n",
       " '19TEST20_2Lab.png',\n",
       " '18TEST20_2Lab.png',\n",
       " '12TEST20_2Lab.png',\n",
       " '11TEST20_2Lab.png',\n",
       " '13TEST20_2Lab.png',\n",
       " '3TEST20_2Lab.png',\n",
       " '9TEST20_2Lab.png',\n",
       " '7TEST20_2Lab.png',\n",
       " '10TEST20_2Lab.png',\n",
       " '15TEST20_2Lab.png',\n",
       " '17TEST20_2Lab.png',\n",
       " '14TEST20_2Lab.png',\n",
       " '16TEST20_2Lab.png',\n",
       " '4TEST20_2Lab.png',\n",
       " '2TEST20_2Lab.png',\n",
       " '5TEST20_2Lab.png',\n",
       " '1TEST20_2Lab.png']"
      ]
     },
     "execution_count": 4,
     "metadata": {},
     "output_type": "execute_result"
    }
   ],
   "source": [
    "images"
   ]
  },
  {
   "cell_type": "code",
   "execution_count": 7,
   "metadata": {},
   "outputs": [],
   "source": [
    "for im in images:\n",
    "    name = im.replace(\"_2Lab.png\", \"\")\n",
    "    mask = cv2.imread(\"./carotida-binary/Test/Masks/\" + im)\n",
    "    mask[mask == 1] = 255\n",
    "    cv2.imwrite(\"./carotida-binary/Test/Masks1/\" + name + \".png\", mask)"
   ]
  }
 ],
 "metadata": {
  "kernelspec": {
   "display_name": "Python 3",
   "language": "python",
   "name": "python3"
  },
  "language_info": {
   "codemirror_mode": {
    "name": "ipython",
    "version": 3
   },
   "file_extension": ".py",
   "mimetype": "text/x-python",
   "name": "python",
   "nbconvert_exporter": "python",
   "pygments_lexer": "ipython3",
   "version": "3.5.2"
  }
 },
 "nbformat": 4,
 "nbformat_minor": 2
}
